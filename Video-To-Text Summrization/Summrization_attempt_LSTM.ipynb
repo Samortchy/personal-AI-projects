{
  "cells": [
    {
      "cell_type": "markdown",
      "metadata": {
        "id": "view-in-github",
        "colab_type": "text"
      },
      "source": [
        "<a href=\"https://colab.research.google.com/github/Samortchy/AI-projects/blob/main/Video-To-Text%20Summrization/Summrization_attempt_LSTM.ipynb\" target=\"_parent\"><img src=\"https://colab.research.google.com/assets/colab-badge.svg\" alt=\"Open In Colab\"/></a>"
      ]
    },
    {
      "cell_type": "code",
      "execution_count": null,
      "metadata": {
        "id": "7tc4XNIxX9_m"
      },
      "outputs": [],
      "source": [
        "import re\n",
        "import nltk\n",
        "import pandas as pd\n",
        "import numpy as np\n",
        "from nltk.corpus import stopwords\n",
        "from tensorflow.keras.preprocessing.text import Tokenizer\n",
        "from tensorflow.keras.preprocessing.sequence import pad_sequences\n",
        "from tensorflow.keras.models import Model\n",
        "from tensorflow.keras.layers import Input, LSTM, Embedding, Dense\n",
        "import random\n",
        "from rouge_score import rouge_scorer\n",
        "\n",
        "nltk.download('stopwords')"
      ]
    },
    {
      "cell_type": "code",
      "execution_count": null,
      "metadata": {
        "colab": {
          "base_uri": "https://localhost:8080/"
        },
        "id": "bvY8bYXTabNA",
        "outputId": "8afc5447-52df-41c9-f1fb-16e2d0e65266"
      },
      "outputs": [
        {
          "name": "stdout",
          "output_type": "stream",
          "text": [
            "Drive already mounted at /content/drive; to attempt to forcibly remount, call drive.mount(\"/content/drive\", force_remount=True).\n"
          ]
        }
      ],
      "source": [
        "from google.colab import drive\n",
        "drive.mount('/content/drive')"
      ]
    },
    {
      "cell_type": "code",
      "execution_count": null,
      "metadata": {
        "id": "t-AoNk4GbRd9"
      },
      "outputs": [],
      "source": [
        "df = pd.read_csv('/content/drive/Shareddrives/data science/cnn_dailymail/train.csv')\n",
        "\n",
        "df = df.dropna().sample(n=5000, random_state=42)\n",
        "df = df.rename(columns={'article': 'text', 'highlights': 'summary'})\n",
        "\n",
        "\n",
        "texts = df['text'].tolist()\n",
        "summaries = df['summary'].tolist()\n"
      ]
    },
    {
      "cell_type": "code",
      "execution_count": null,
      "metadata": {
        "colab": {
          "base_uri": "https://localhost:8080/",
          "height": 206
        },
        "id": "uH0QwCGPbZuU",
        "outputId": "99a97bb0-43cb-4ad6-b1ed-ac25d75e697e"
      },
      "outputs": [
        {
          "data": {
            "application/vnd.google.colaboratory.intrinsic+json": {
              "summary": "{\n  \"name\": \"df\",\n  \"rows\": 5000,\n  \"fields\": [\n    {\n      \"column\": \"id\",\n      \"properties\": {\n        \"dtype\": \"string\",\n        \"num_unique_values\": 5000,\n        \"samples\": [\n          \"bb00487ba9d2946656dc78fa33c04adfcc7a1a26\",\n          \"49002eb7a5f82853e35d3bfee0ee4a0b903604b7\",\n          \"c1617e9c473483a2b7ca71c191a878510b932cc9\"\n        ],\n        \"semantic_type\": \"\",\n        \"description\": \"\"\n      }\n    },\n    {\n      \"column\": \"text\",\n      \"properties\": {\n        \"dtype\": \"string\",\n        \"num_unique_values\": 4999,\n        \"samples\": [\n          \"LEXINGTON, Georgia (CNN) -- A pack of dogs brought down and killed an animal-loving couple last weekend in rural northeastern Georgia, and a similar tragedy could occur anywhere dogs roam freely, authorities say. Two dogs from the pack that killed two people await euthanasia Tuesday at a shelter in northeast Georgia. Sheriff's deputies, code enforcement officers and other officials spent most of Monday and Tuesday rounding up 11 adult dogs and five puppies, Oglethorpe County Sheriff's Capt. Shalon Huff said. One more was trapped Wednesday morning, leaving one still to be captured, she said. \\\"We're just lucky this hasn't happened before,\\\" said Susan Fornash, director of the Madison Oglethorpe Animal Shelter in Danielsville, where the captured dogs were held before being euthanized Tuesday under orders from a local judge. \\\"We've had people bring in a dog because it killed a goat or chased their horses or something like that. And to me, that was just the forerunner of something like this.\\\" Investigators say they believe that University of Georgia librarian Sherry Schweder, 65, went for her usual morning walk Saturday down Howard Thaxton Road, the narrow dirt lane that runs alongside the couple's property. The dogs were familiar in the area, investigators say, having been left behind when the person who had been caring for some of them moved out of a home at the end of the lane. Authorities theorize that halfway down the lane, about a quarter-mile from her home, Sherry Schweder was confronted by the dogs, which knocked her down and killed her. Her husband, retired UGA language professor Lothar Schweder, became concerned when she didn't return and went out in their Honda CRX to look for her. When he found her lying in the lane and got out to shoo away the dogs, they attacked and killed him too, investigators believe. Although no blood was seen on the dogs, other evidence and autopsy results convince authorities that the pack killed the Schweders, said Jim Fullington, special agent in charge of the Georgia Bureau of Investigation's office in nearby Athens.  Watch what investigators learned \\u00bb . Black bears occasionally pass through the area, but none have been reported recently, said Sgt. Doyte Chaffin, a wildlife officer with the Georgia Department of Natural Resources. Investigators found no prints other than those of dogs and humans, Fullington added. Humans can appear threatening to dogs that run in packs, said Bonnie Beaver, a professor in the department of small animal clinical sciences at Texas A&M University and an expert in pack behavior. \\\"From their perspective, a person is an alien, if you will,\\\" Beaver said. \\\"It would be the same as we would relate to a grizzly bear.\\\" Dogs kill an average of 10 to 20 people each year in the United States, Beaver said. The vast majority of those cases involve a single dog attacking a small child, she said. As few as two or three dogs, whether urban, suburban or rural, can behave like a pack, Beaver said. And when pack mentality takes over, \\\"they do insane things that they would not do\\\" under normal circumstances, she said. \\\"My bet is there was one ringleader who kind of started it\\\" in the Georgia case, Beaver said. Something as simple as making eye contact may have made one dog in the group feel threatened, and its body language put the other dogs on edge, triggering an \\\"escalation,\\\" she said. Even though none of the dogs weighed more than about 40 pounds, their numbers would have overwhelmed the victims. Screaming, flailing or trying to run would only make things worse, Beaver said. \\\"To be slight people, as I'm told they both were, and the ages that they were, I don't know what they could have done. I don't know what I would do,\\\" Fornash said. Jehovah's Witnesses walking up the lane to visit the lone house found the Schweders' mutilated bodies lying next to the car and called 911, Fullington said. He added that a sheriff's deputy had to fire a shot in the air to scare the dogs away. The house the evangelists had intended to visit was unoccupied, but it was home to at least some of the dogs, Fullington said. The owner, Howard Thaxton, had moved out some months earlier because of health and financial problems but had someone drive him every other day to leave food for the dogs, said GBI Special Agent Christopher Bish. Several empty 40-pound bags of Ol' Roy dog food were strewn about the property Tuesday. Thaxton, an amputee who Bish said was recently released from a hospital, has been cooperating with authorities. Thaxton doesn't believe that those animals were capable of killing people, law enforcement officials said. He has not been charged. \\\"We are still in discussions with the district attorney about culpability and what have you, but no decisions have been reached yet,\\\" Bish said. Bish said it took 14 visits to Thaxton's house to make initial contact with him. CNN's efforts to find Thaxton for comment were unsuccessful. Stopping the dogs from reproducing might have prevented the tragedy, Fornash said. Just a few dogs can multiply rapidly into a menace, she added.  Watch how dog bites might be prevented \\u00bb . \\\"In the blink of an eye, we have a pack of 50 dogs because people don't spay and neuter,\\\" she said. It took about 90 minutes to euthanize all 16 dogs, several of which were maggot-infested, Fornash said. No one asked that they be checked for rabies, and the sheriff directed that the carcasses be cremated immediately, she said. \\\"I'm heartbroken for the family,\\\" Fornash said. \\\"I can't even imagine how they must feel. And I'm also very sad for those animals, because if they had been cared for the way they should have been, this wouldn't have happened. It's not their fault.\\\" The Schweders' seven dogs and four of their cats were to be brought to the shelter Wednesday and eventually adopted out, she said. Thaxton's wood frame house that served as the dogs' home sits at the edge of a forest dotted with hunting campers and abandoned 1950s vehicles. Empty 5-gallon water bottles fill a ravine behind the house, and a derelict 1980s Chevy Caprice crouches next to a rusting John Deere tractor under a shade tree. After all the sheriff's deputies and trappers had left Tuesday afternoon, a scruffy red dog appeared, ears up, next to the tractor. The animal, alone, scampered off into the woods.\",\n          \"Police are hunting for the victim and the attackers from a horrific incident in Florida on Sunday where a man pushed a woman's head down the toilet and dragged her out of a restaurant by her hair. As he brutally forced the victim into a car outside Burger King in Pembroke Pines, a witness heard the suspect say: 'You're going to die today and I'm going to be the one to do it.' Diners in the restaurant around 7.30am yesterday morning saw the woman go in the restroom, where she was followed by one of the men involved in the violent attack. Scroll down for video . Brutal: This surveillance footage shows the suspect dragging the victim out of the Burger King restaurant by her hair. Police are asking for the public's help in finding the attackers . Threats: As he brutally forced the victim into a car outside the restaurant, a witness heard the suspect say: 'You're going to die today and I'm going to be the one to do it' After hearing noise from the stalls, a female witness in the restaurant at 8913 Taft Street entered the bathroom, where she saw the victim on the ground and the suspect forcing her head into the toilet. According to CBS Miami, the witness told both the man and the woman they had to leave. The suspect then violently hauled the victim off the premises by her hair and threatened her life. Police say a silver Infiniti G35 then pulled up outside and the women was bundled into the vehicle before the driver of the car sped off. Officers are appealing for the public's help in finding the two suspects and the victim. Scene: The brutal incident took place on Sunday morning at Burger King in Pembroke Pines, Florida . The man accused of the attack is described as a six-foot-tall black male in his 20s with a slim build and black hair. He was wearing a white tank top. The female victim is also thought to be in her 20s, measuring 5'5\\\" to 5'7\\\", and is between 140-145 pounds in weight. She has shoulder length black hair and was wearing a purple shirt. Police say the car used in the attack was a four-door, 2009-11 Infiniti G35 with a spoiler and a University of Miami sticker in the back window. The driver of the car is described as a white or Hispanic male with dark curly hair. Hunt: Officers are looking for the attacker. He is described as a six-foot-tall black male in his 20s with a slim build and black hair. He was wearing a white tank top .\",\n          \"An angry University of Queensland student has written a hilarious petition after she was snubbed for a meeting with US President Barack Obama. Ashley Chandler posted a lengthy letter to the university, which hosted a speech by Obama on Saturday, on\\u00a0Change.org. She called their decision not to invite her to the talk \\u2018a scandal that would rank somewhere between Watergate and the 2011 Greenfield incident\\u2019. The 21-year-old explained to Daily Mail Australia that while her letter was a work of satire she is genuinely angry about how UQ allocated the tickets to students. \\u2018The letter that I wrote is satire but it is being ridiculous as it points out how ridiculous their conduct has been,\\u2019 she said. Scroll down for video . University of Queensland Student Ashley Chandler wrote a petition after she wasn't invited to hear Obama speak . President Barack Obama at  at the University of Queensland in Brisbane . The fifth year law and political science student wrote: \\u2018I am, naturally, upset/outraged/hurt/offended/aggrieved by UQ\\u2019s decision not to invite me.\\u2019 Listing the reasons she believes she should have been invited, Ms Chandler said: 'I hold a leadership position in the university, I am a scholarship student, I have represented UQ internationally, was once on Millionaire Hot Seat, have seen all seven seasons of the West Wing, and hell, I even went to College.' Ms Chandler said she was not the only student who was disappointed not to receive an invite. 'There are many, many students who have contributed much to the UQ community who should have been offered the opportunity to attend, some even more deserving than me (maybe),' she wrote. Ms Chandler hinted that she thought the university didn't invite her because she is a woman. And added: 'Perhaps the worst thing about this entire process is that it seems to fly in the face of everything Barack Obama stands for. He was the one who told us all that \\\"Yes, we can\\\", but, literally, we can\\u2019t.' Ashley Chandler said the university had upset a lot of students by not inviting them to Obama's speech . Mrs Chandler hinted that she thought the university didn't invite her because she is a woman . Ms Chandler said the decision flies in the face of what Barack Obama stands for . She highlighted that the other two Brisbane universities that handed out invites \\u2013 Griffiths Uni and QUT \\u2013 had a much better system than QU. \\u2018400 tickets were given to one small portion of the student body\\u2026 some of whom aren\\u2019t even interested in politics and are just going for the hype of it,\\u2019 Ms Chandler said. She argued that there was a lack of transparency in the way the tickets were handed out. \\u2018There was a message from vice chancellor; he said tight timeframes meant the tickets were given away to students that live on campus. Hundreds of students from Brisbane's three main unis were invited to the speech . \\u2018But I don\\u2019t think that really stacks up when students from other unis came to the speech,\\u2019 she reasoned. After watching Obama\\u2019s speech from her living room she said: \\u2018I thought it was OK but he was telling people what they wanted to hear. To be honest it wasn\\u2019t groundbreaking.\\u2019 Ms Chandler said students are in the middle of their final block of exams and have not been told if they can even access the library this weekend while Obama is in town. One student told her he was turned away by security when he tried to hand in his work and told \\u2018sorry it\\u2019s going to have to be handed in late\\u2019. The law and political science student wrote: \\u2018I am, naturally, upset/outraged/hurt/offended/aggrieved' Ms Chandler reasoned she was once on Millionaire Hot Seat . She wrote on her Facebook page: 'I have written this open letter to UQ to express my concern over their handling of the Obamagate affair'\"\n        ],\n        \"semantic_type\": \"\",\n        \"description\": \"\"\n      }\n    },\n    {\n      \"column\": \"summary\",\n      \"properties\": {\n        \"dtype\": \"string\",\n        \"num_unique_values\": 4997,\n        \"samples\": [\n          \"<sos>Dogs attacked woman, husband who tried to help her, Georgia authorities say .\\nSixteen animals euthanized; couple's pets to be adopted at same shelter .\\nPack instincts make untamed dogs dangerous, expert says .\\nSpaying and neutering of pets might have prevented tragedy, shelter director says .<eos>\",\n          \"<sos>Victoria Beckham has installed a giant pink foxglove in her London shop .\\nThe star commissioned the piece from set designer Andy Hillman .\\nThe artwork was created to coincide with the Spring/Summer 2015 season .<eos>\",\n          \"<sos>Fox has pulled the plug on \\\"Almost Human\\\"\\nThe freshman robot cop drama starred Karl Urban and Michael Ealy .\\nIt struggled in ratings on Monday nights .<eos>\"\n        ],\n        \"semantic_type\": \"\",\n        \"description\": \"\"\n      }\n    }\n  ]\n}",
              "type": "dataframe",
              "variable_name": "df"
            },
            "text/html": [
              "\n",
              "  <div id=\"df-311e08ac-6966-4087-ae4d-e34149db06f8\" class=\"colab-df-container\">\n",
              "    <div>\n",
              "<style scoped>\n",
              "    .dataframe tbody tr th:only-of-type {\n",
              "        vertical-align: middle;\n",
              "    }\n",
              "\n",
              "    .dataframe tbody tr th {\n",
              "        vertical-align: top;\n",
              "    }\n",
              "\n",
              "    .dataframe thead th {\n",
              "        text-align: right;\n",
              "    }\n",
              "</style>\n",
              "<table border=\"1\" class=\"dataframe\">\n",
              "  <thead>\n",
              "    <tr style=\"text-align: right;\">\n",
              "      <th></th>\n",
              "      <th>id</th>\n",
              "      <th>text</th>\n",
              "      <th>summary</th>\n",
              "    </tr>\n",
              "  </thead>\n",
              "  <tbody>\n",
              "    <tr>\n",
              "      <th>272581</th>\n",
              "      <td>ed0fed726929c1eeabe6c390e47128dbb7d7a055</td>\n",
              "      <td>By . Mia De Graaf . Britons flocked to beaches...</td>\n",
              "      <td>&lt;sos&gt;People enjoyed temperatures of 17C at Bri...</td>\n",
              "    </tr>\n",
              "    <tr>\n",
              "      <th>772</th>\n",
              "      <td>023cd84001b33aed4ff0f3f5ecb0fdd2151cf543</td>\n",
              "      <td>A couple who weighed a combined 32st were sham...</td>\n",
              "      <td>&lt;sos&gt;Couple started piling on pounds after the...</td>\n",
              "    </tr>\n",
              "    <tr>\n",
              "      <th>171868</th>\n",
              "      <td>6a70a0d8d3ed365fe1df6d35f1587a8b9b298618</td>\n",
              "      <td>Video footage shows the heart stopping moment ...</td>\n",
              "      <td>&lt;sos&gt;A 17-year-old boy suffering lacerations t...</td>\n",
              "    </tr>\n",
              "    <tr>\n",
              "      <th>63167</th>\n",
              "      <td>b37204c13ea38b511265e41ac69fb12acfb63f85</td>\n",
              "      <td>Istanbul, Turkey (CNN) -- About 250 people rac...</td>\n",
              "      <td>&lt;sos&gt;Syrians citizens hightail it to Turkey .\\...</td>\n",
              "    </tr>\n",
              "    <tr>\n",
              "      <th>68522</th>\n",
              "      <td>c24e5805afd5145bc48410e876db91d44a06be5e</td>\n",
              "      <td>By . Daily Mail Reporter . PUBLISHED: . 12:53 ...</td>\n",
              "      <td>&lt;sos&gt;The Xue Long had provided the helicopter ...</td>\n",
              "    </tr>\n",
              "  </tbody>\n",
              "</table>\n",
              "</div>\n",
              "    <div class=\"colab-df-buttons\">\n",
              "\n",
              "  <div class=\"colab-df-container\">\n",
              "    <button class=\"colab-df-convert\" onclick=\"convertToInteractive('df-311e08ac-6966-4087-ae4d-e34149db06f8')\"\n",
              "            title=\"Convert this dataframe to an interactive table.\"\n",
              "            style=\"display:none;\">\n",
              "\n",
              "  <svg xmlns=\"http://www.w3.org/2000/svg\" height=\"24px\" viewBox=\"0 -960 960 960\">\n",
              "    <path d=\"M120-120v-720h720v720H120Zm60-500h600v-160H180v160Zm220 220h160v-160H400v160Zm0 220h160v-160H400v160ZM180-400h160v-160H180v160Zm440 0h160v-160H620v160ZM180-180h160v-160H180v160Zm440 0h160v-160H620v160Z\"/>\n",
              "  </svg>\n",
              "    </button>\n",
              "\n",
              "  <style>\n",
              "    .colab-df-container {\n",
              "      display:flex;\n",
              "      gap: 12px;\n",
              "    }\n",
              "\n",
              "    .colab-df-convert {\n",
              "      background-color: #E8F0FE;\n",
              "      border: none;\n",
              "      border-radius: 50%;\n",
              "      cursor: pointer;\n",
              "      display: none;\n",
              "      fill: #1967D2;\n",
              "      height: 32px;\n",
              "      padding: 0 0 0 0;\n",
              "      width: 32px;\n",
              "    }\n",
              "\n",
              "    .colab-df-convert:hover {\n",
              "      background-color: #E2EBFA;\n",
              "      box-shadow: 0px 1px 2px rgba(60, 64, 67, 0.3), 0px 1px 3px 1px rgba(60, 64, 67, 0.15);\n",
              "      fill: #174EA6;\n",
              "    }\n",
              "\n",
              "    .colab-df-buttons div {\n",
              "      margin-bottom: 4px;\n",
              "    }\n",
              "\n",
              "    [theme=dark] .colab-df-convert {\n",
              "      background-color: #3B4455;\n",
              "      fill: #D2E3FC;\n",
              "    }\n",
              "\n",
              "    [theme=dark] .colab-df-convert:hover {\n",
              "      background-color: #434B5C;\n",
              "      box-shadow: 0px 1px 3px 1px rgba(0, 0, 0, 0.15);\n",
              "      filter: drop-shadow(0px 1px 2px rgba(0, 0, 0, 0.3));\n",
              "      fill: #FFFFFF;\n",
              "    }\n",
              "  </style>\n",
              "\n",
              "    <script>\n",
              "      const buttonEl =\n",
              "        document.querySelector('#df-311e08ac-6966-4087-ae4d-e34149db06f8 button.colab-df-convert');\n",
              "      buttonEl.style.display =\n",
              "        google.colab.kernel.accessAllowed ? 'block' : 'none';\n",
              "\n",
              "      async function convertToInteractive(key) {\n",
              "        const element = document.querySelector('#df-311e08ac-6966-4087-ae4d-e34149db06f8');\n",
              "        const dataTable =\n",
              "          await google.colab.kernel.invokeFunction('convertToInteractive',\n",
              "                                                    [key], {});\n",
              "        if (!dataTable) return;\n",
              "\n",
              "        const docLinkHtml = 'Like what you see? Visit the ' +\n",
              "          '<a target=\"_blank\" href=https://colab.research.google.com/notebooks/data_table.ipynb>data table notebook</a>'\n",
              "          + ' to learn more about interactive tables.';\n",
              "        element.innerHTML = '';\n",
              "        dataTable['output_type'] = 'display_data';\n",
              "        await google.colab.output.renderOutput(dataTable, element);\n",
              "        const docLink = document.createElement('div');\n",
              "        docLink.innerHTML = docLinkHtml;\n",
              "        element.appendChild(docLink);\n",
              "      }\n",
              "    </script>\n",
              "  </div>\n",
              "\n",
              "\n",
              "<div id=\"df-10a1d979-572d-4f33-82c3-ca4af2a46a37\">\n",
              "  <button class=\"colab-df-quickchart\" onclick=\"quickchart('df-10a1d979-572d-4f33-82c3-ca4af2a46a37')\"\n",
              "            title=\"Suggest charts\"\n",
              "            style=\"display:none;\">\n",
              "\n",
              "<svg xmlns=\"http://www.w3.org/2000/svg\" height=\"24px\"viewBox=\"0 0 24 24\"\n",
              "     width=\"24px\">\n",
              "    <g>\n",
              "        <path d=\"M19 3H5c-1.1 0-2 .9-2 2v14c0 1.1.9 2 2 2h14c1.1 0 2-.9 2-2V5c0-1.1-.9-2-2-2zM9 17H7v-7h2v7zm4 0h-2V7h2v10zm4 0h-2v-4h2v4z\"/>\n",
              "    </g>\n",
              "</svg>\n",
              "  </button>\n",
              "\n",
              "<style>\n",
              "  .colab-df-quickchart {\n",
              "      --bg-color: #E8F0FE;\n",
              "      --fill-color: #1967D2;\n",
              "      --hover-bg-color: #E2EBFA;\n",
              "      --hover-fill-color: #174EA6;\n",
              "      --disabled-fill-color: #AAA;\n",
              "      --disabled-bg-color: #DDD;\n",
              "  }\n",
              "\n",
              "  [theme=dark] .colab-df-quickchart {\n",
              "      --bg-color: #3B4455;\n",
              "      --fill-color: #D2E3FC;\n",
              "      --hover-bg-color: #434B5C;\n",
              "      --hover-fill-color: #FFFFFF;\n",
              "      --disabled-bg-color: #3B4455;\n",
              "      --disabled-fill-color: #666;\n",
              "  }\n",
              "\n",
              "  .colab-df-quickchart {\n",
              "    background-color: var(--bg-color);\n",
              "    border: none;\n",
              "    border-radius: 50%;\n",
              "    cursor: pointer;\n",
              "    display: none;\n",
              "    fill: var(--fill-color);\n",
              "    height: 32px;\n",
              "    padding: 0;\n",
              "    width: 32px;\n",
              "  }\n",
              "\n",
              "  .colab-df-quickchart:hover {\n",
              "    background-color: var(--hover-bg-color);\n",
              "    box-shadow: 0 1px 2px rgba(60, 64, 67, 0.3), 0 1px 3px 1px rgba(60, 64, 67, 0.15);\n",
              "    fill: var(--button-hover-fill-color);\n",
              "  }\n",
              "\n",
              "  .colab-df-quickchart-complete:disabled,\n",
              "  .colab-df-quickchart-complete:disabled:hover {\n",
              "    background-color: var(--disabled-bg-color);\n",
              "    fill: var(--disabled-fill-color);\n",
              "    box-shadow: none;\n",
              "  }\n",
              "\n",
              "  .colab-df-spinner {\n",
              "    border: 2px solid var(--fill-color);\n",
              "    border-color: transparent;\n",
              "    border-bottom-color: var(--fill-color);\n",
              "    animation:\n",
              "      spin 1s steps(1) infinite;\n",
              "  }\n",
              "\n",
              "  @keyframes spin {\n",
              "    0% {\n",
              "      border-color: transparent;\n",
              "      border-bottom-color: var(--fill-color);\n",
              "      border-left-color: var(--fill-color);\n",
              "    }\n",
              "    20% {\n",
              "      border-color: transparent;\n",
              "      border-left-color: var(--fill-color);\n",
              "      border-top-color: var(--fill-color);\n",
              "    }\n",
              "    30% {\n",
              "      border-color: transparent;\n",
              "      border-left-color: var(--fill-color);\n",
              "      border-top-color: var(--fill-color);\n",
              "      border-right-color: var(--fill-color);\n",
              "    }\n",
              "    40% {\n",
              "      border-color: transparent;\n",
              "      border-right-color: var(--fill-color);\n",
              "      border-top-color: var(--fill-color);\n",
              "    }\n",
              "    60% {\n",
              "      border-color: transparent;\n",
              "      border-right-color: var(--fill-color);\n",
              "    }\n",
              "    80% {\n",
              "      border-color: transparent;\n",
              "      border-right-color: var(--fill-color);\n",
              "      border-bottom-color: var(--fill-color);\n",
              "    }\n",
              "    90% {\n",
              "      border-color: transparent;\n",
              "      border-bottom-color: var(--fill-color);\n",
              "    }\n",
              "  }\n",
              "</style>\n",
              "\n",
              "  <script>\n",
              "    async function quickchart(key) {\n",
              "      const quickchartButtonEl =\n",
              "        document.querySelector('#' + key + ' button');\n",
              "      quickchartButtonEl.disabled = true;  // To prevent multiple clicks.\n",
              "      quickchartButtonEl.classList.add('colab-df-spinner');\n",
              "      try {\n",
              "        const charts = await google.colab.kernel.invokeFunction(\n",
              "            'suggestCharts', [key], {});\n",
              "      } catch (error) {\n",
              "        console.error('Error during call to suggestCharts:', error);\n",
              "      }\n",
              "      quickchartButtonEl.classList.remove('colab-df-spinner');\n",
              "      quickchartButtonEl.classList.add('colab-df-quickchart-complete');\n",
              "    }\n",
              "    (() => {\n",
              "      let quickchartButtonEl =\n",
              "        document.querySelector('#df-10a1d979-572d-4f33-82c3-ca4af2a46a37 button');\n",
              "      quickchartButtonEl.style.display =\n",
              "        google.colab.kernel.accessAllowed ? 'block' : 'none';\n",
              "    })();\n",
              "  </script>\n",
              "</div>\n",
              "\n",
              "    </div>\n",
              "  </div>\n"
            ],
            "text/plain": [
              "                                              id  \\\n",
              "272581  ed0fed726929c1eeabe6c390e47128dbb7d7a055   \n",
              "772     023cd84001b33aed4ff0f3f5ecb0fdd2151cf543   \n",
              "171868  6a70a0d8d3ed365fe1df6d35f1587a8b9b298618   \n",
              "63167   b37204c13ea38b511265e41ac69fb12acfb63f85   \n",
              "68522   c24e5805afd5145bc48410e876db91d44a06be5e   \n",
              "\n",
              "                                                     text  \\\n",
              "272581  By . Mia De Graaf . Britons flocked to beaches...   \n",
              "772     A couple who weighed a combined 32st were sham...   \n",
              "171868  Video footage shows the heart stopping moment ...   \n",
              "63167   Istanbul, Turkey (CNN) -- About 250 people rac...   \n",
              "68522   By . Daily Mail Reporter . PUBLISHED: . 12:53 ...   \n",
              "\n",
              "                                                  summary  \n",
              "272581  <sos>People enjoyed temperatures of 17C at Bri...  \n",
              "772     <sos>Couple started piling on pounds after the...  \n",
              "171868  <sos>A 17-year-old boy suffering lacerations t...  \n",
              "63167   <sos>Syrians citizens hightail it to Turkey .\\...  \n",
              "68522   <sos>The Xue Long had provided the helicopter ...  "
            ]
          },
          "execution_count": 102,
          "metadata": {},
          "output_type": "execute_result"
        }
      ],
      "source": [
        "df.head()"
      ]
    },
    {
      "cell_type": "code",
      "execution_count": null,
      "metadata": {
        "id": "VzjywZl-fMZl"
      },
      "outputs": [],
      "source": [
        "#Tokenizers\n",
        "text_tokenizer = Tokenizer(oov_token='<OOV>')\n",
        "summary_tokenizer = Tokenizer(oov_token='<OOV>')\n",
        "\n",
        "# Include <sos> and <eos> explicitly\n",
        "summary_tokenizer.fit_on_texts(['<sos>', '<eos>'])\n",
        "summary_tokenizer.fit_on_texts(summaries)\n",
        "text_tokenizer.fit_on_texts(texts)\n",
        "\n",
        "# Sequences\n",
        "text_seq = text_tokenizer.texts_to_sequences(texts)\n",
        "summary_seq = summary_tokenizer.texts_to_sequences(summaries)\n",
        "\n",
        "# Max lengths\n",
        "max_text_len = 300\n",
        "max_summary_len = 50\n",
        "\n",
        "# Pad sequences\n",
        "encoder_input = pad_sequences(text_seq, maxlen=max_text_len, padding='post')\n",
        "decoder_input = pad_sequences(summary_seq, maxlen=max_summary_len, padding='post')"
      ]
    },
    {
      "cell_type": "code",
      "execution_count": null,
      "metadata": {
        "colab": {
          "base_uri": "https://localhost:8080/"
        },
        "id": "QeE_bFB8io9v",
        "outputId": "1f7463bf-e211-4570-9177-029f85621191"
      },
      "outputs": [
        {
          "name": "stdout",
          "output_type": "stream",
          "text": [
            "False\n"
          ]
        }
      ],
      "source": [
        "print(\"<sos>\" in summary_tokenizer.word_index)  # Should return: True\n",
        "#print(summary_tokenizer.word_index['<sos>'])    # Should return an integer index\n"
      ]
    },
    {
      "cell_type": "code",
      "execution_count": null,
      "metadata": {
        "id": "SdSwcTY2fyIt"
      },
      "outputs": [],
      "source": [
        "# Model params\n",
        "embedding_dim = 100\n",
        "latent_dim = 256\n",
        "\n",
        "# Encoder\n",
        "encoder_inputs = Input(shape=(max_text_len,))\n",
        "enc_emb = Embedding(len(text_tokenizer.word_index)+1, embedding_dim)(encoder_inputs)\n",
        "encoder_lstm, state_h, state_c = LSTM(latent_dim, return_state=True)(enc_emb)\n",
        "encoder_states = [state_h, state_c]\n",
        "\n",
        "# Decoder\n",
        "decoder_inputs = Input(shape=(None,))\n",
        "dec_emb_layer = Embedding(len(summary_tokenizer.word_index)+1, embedding_dim)\n",
        "dec_emb = dec_emb_layer(decoder_inputs)\n",
        "decoder_lstm = LSTM(latent_dim, return_sequences=True, return_state=True)\n",
        "decoder_outputs, _, _ = decoder_lstm(dec_emb, initial_state=encoder_states)\n",
        "decoder_dense = Dense(len(summary_tokenizer.word_index)+1, activation='softmax')\n",
        "decoder_outputs = decoder_dense(decoder_outputs)\n",
        "\n",
        "# Compile model\n",
        "model = Model([encoder_inputs, decoder_inputs], decoder_outputs)\n",
        "model.compile(optimizer='rmsprop', loss='sparse_categorical_crossentropy')"
      ]
    },
    {
      "cell_type": "code",
      "execution_count": null,
      "metadata": {
        "colab": {
          "background_save": true,
          "base_uri": "https://localhost:8080/"
        },
        "id": "WGVf3DT1f27e",
        "outputId": "f586a67e-870e-4a6d-d629-674cb4e7edb8"
      },
      "outputs": [
        {
          "name": "stdout",
          "output_type": "stream",
          "text": [
            "Epoch 1/10\n",
            "\u001b[1m71/71\u001b[0m \u001b[32m━━━━━━━━━━━━━━━━━━━━\u001b[0m\u001b[37m\u001b[0m \u001b[1m656s\u001b[0m 9s/step - loss: 8.6684 - val_loss: 6.9857\n",
            "Epoch 2/10\n",
            "\u001b[1m71/71\u001b[0m \u001b[32m━━━━━━━━━━━━━━━━━━━━\u001b[0m\u001b[37m\u001b[0m \u001b[1m704s\u001b[0m 9s/step - loss: 6.9331 - val_loss: 6.7881\n",
            "Epoch 3/10\n",
            "\u001b[1m71/71\u001b[0m \u001b[32m━━━━━━━━━━━━━━━━━━━━\u001b[0m\u001b[37m\u001b[0m \u001b[1m681s\u001b[0m 9s/step - loss: 6.6888 - val_loss: 6.6081\n",
            "Epoch 4/10\n",
            "\u001b[1m71/71\u001b[0m \u001b[32m━━━━━━━━━━━━━━━━━━━━\u001b[0m\u001b[37m\u001b[0m \u001b[1m672s\u001b[0m 9s/step - loss: 6.5422 - val_loss: 6.5798\n",
            "Epoch 5/10\n",
            "\u001b[1m71/71\u001b[0m \u001b[32m━━━━━━━━━━━━━━━━━━━━\u001b[0m\u001b[37m\u001b[0m \u001b[1m672s\u001b[0m 9s/step - loss: 6.4751 - val_loss: 6.5772\n",
            "Epoch 6/10\n",
            "\u001b[1m71/71\u001b[0m \u001b[32m━━━━━━━━━━━━━━━━━━━━\u001b[0m\u001b[37m\u001b[0m \u001b[1m687s\u001b[0m 9s/step - loss: 6.5026 - val_loss: 6.5776\n",
            "Epoch 7/10\n",
            "\u001b[1m71/71\u001b[0m \u001b[32m━━━━━━━━━━━━━━━━━━━━\u001b[0m\u001b[37m\u001b[0m \u001b[1m674s\u001b[0m 9s/step - loss: 6.4716 - val_loss: 6.5513\n",
            "Epoch 8/10\n",
            "\u001b[1m71/71\u001b[0m \u001b[32m━━━━━━━━━━━━━━━━━━━━\u001b[0m\u001b[37m\u001b[0m \u001b[1m684s\u001b[0m 9s/step - loss: 6.4963 - val_loss: 6.5393\n",
            "Epoch 9/10\n",
            "\u001b[1m71/71\u001b[0m \u001b[32m━━━━━━━━━━━━━━━━━━━━\u001b[0m\u001b[37m\u001b[0m \u001b[1m681s\u001b[0m 9s/step - loss: 6.4235 - val_loss: 6.5181\n",
            "Epoch 10/10\n",
            "\u001b[1m71/71\u001b[0m \u001b[32m━━━━━━━━━━━━━━━━━━━━\u001b[0m\u001b[37m\u001b[0m \u001b[1m696s\u001b[0m 9s/step - loss: 6.3860 - val_loss: 6.4903\n"
          ]
        },
        {
          "data": {
            "text/plain": [
              "<keras.src.callbacks.history.History at 0x7c6b58887a10>"
            ]
          },
          "execution_count": 8,
          "metadata": {},
          "output_type": "execute_result"
        }
      ],
      "source": [
        "# Prepare decoder output (shifted by one timestep)\n",
        "decoder_target = np.zeros_like(decoder_input)\n",
        "decoder_target[:, :-1] = decoder_input[:, 1:]\n",
        "\n",
        "# Train\n",
        "model.fit(\n",
        "    [encoder_input, decoder_input],\n",
        "    np.expand_dims(decoder_target, -1),\n",
        "    batch_size=64,\n",
        "    epochs=10,\n",
        "    validation_split=0.1\n",
        ")"
      ]
    },
    {
      "cell_type": "code",
      "execution_count": null,
      "metadata": {
        "id": "U5XiYCGtiKkL"
      },
      "outputs": [],
      "source": [
        "encoder_model = Model(encoder_inputs, encoder_states)\n",
        "\n",
        "decoder_state_input_h = Input(shape=(latent_dim,))\n",
        "decoder_state_input_c = Input(shape=(latent_dim,))\n",
        "decoder_states_inputs = [decoder_state_input_h, decoder_state_input_c]\n",
        "dec_emb2 = dec_emb_layer(decoder_inputs)\n",
        "decoder_outputs2, state_h2, state_c2 = decoder_lstm(dec_emb2, initial_state=decoder_states_inputs)\n",
        "decoder_outputs2 = decoder_dense(decoder_outputs2)\n",
        "decoder_states2 = [state_h2, state_c2]\n",
        "\n",
        "decoder_model = Model([decoder_inputs] + decoder_states_inputs, [decoder_outputs2] + decoder_states2)"
      ]
    },
    {
      "cell_type": "code",
      "execution_count": null,
      "metadata": {
        "id": "vkLr_TtNiML0"
      },
      "outputs": [],
      "source": [
        "def decode_sequence(input_seq, encoder_model, decoder_model, tokenizer, max_len):\n",
        "    states_value = encoder_model.predict(input_seq)\n",
        "\n",
        "    # Start with the most frequent token or simply 0 (usually padding token)\n",
        "    target_seq = np.zeros((1, 1))\n",
        "\n",
        "    decoded_tokens = []\n",
        "    stop_condition = False\n",
        "\n",
        "    while not stop_condition:\n",
        "        output_tokens, h, c = decoder_model.predict([target_seq] + states_value)\n",
        "\n",
        "        sampled_token_index = np.argmax(output_tokens[0, -1, :])\n",
        "        sampled_word = tokenizer.index_word.get(sampled_token_index, '')\n",
        "\n",
        "        # Stop if too long or unknown/pad token\n",
        "        if len(decoded_tokens) >= max_len or sampled_word == '':\n",
        "            stop_condition = True\n",
        "        else:\n",
        "            decoded_tokens.append(sampled_word)\n",
        "\n",
        "        target_seq[0, 0] = sampled_token_index\n",
        "        states_value = [h, c]\n",
        "\n",
        "    return ' '.join(decoded_tokens)\n"
      ]
    },
    {
      "cell_type": "code",
      "execution_count": null,
      "metadata": {
        "colab": {
          "base_uri": "https://localhost:8080/"
        },
        "id": "cT9ep0x2jkwV",
        "outputId": "8bf219ab-56f9-464f-c05d-13dddd2a3e14"
      },
      "outputs": [
        {
          "name": "stdout",
          "output_type": "stream",
          "text": [
            "<sos>Heather Choate found out she had breast cancer while 10 weeks pregnant with her sixth child .\n",
            "The 29-year-old from Bayfield, Colorado was advised to terminate the pregnancy and seek treatment, but said she would rather die .\n",
            "She found a doctor who gave her some chemotherapy and surgery, and gave birth to a healthy baby girl on January 6 .\n",
            "Earlier this week, she also learned that she is now cancer free .<eos>\n",
            "'<sos>Heather Choate found out she had breast cancer while 10 weeks pregnant with her sixth child .\\nThe 29-year-old from Bayfield,\\xa0Colorado\\xa0was advised to terminate the pregnancy and\\xa0seek treatment, but said she would rather die .\\nShe found a doctor who gave her some chemotherapy and surgery, and gave birth to a\\xa0healthy\\xa0baby girl on\\xa0January\\xa06 .\\nEarlier this week, she also learned that she is now cancer free .<eos>'\n"
          ]
        }
      ],
      "source": [
        "print(df['summary'].iloc[32])  # Make sure it's exactly \"<sos> ... <eos>\"\n",
        "print(repr(df['summary'].iloc[32]))  # Reveals hidden characters\n"
      ]
    },
    {
      "cell_type": "code",
      "execution_count": null,
      "metadata": {
        "colab": {
          "base_uri": "https://localhost:8080/"
        },
        "id": "aYIP-2oZiSsu",
        "outputId": "6b06a520-49e2-44cb-cca5-b8822f2b03d2"
      },
      "outputs": [
        {
          "output_type": "stream",
          "name": "stdout",
          "text": [
            "\u001b[1m1/1\u001b[0m \u001b[32m━━━━━━━━━━━━━━━━━━━━\u001b[0m\u001b[37m\u001b[0m \u001b[1m0s\u001b[0m 299ms/step\n",
            "\u001b[1m1/1\u001b[0m \u001b[32m━━━━━━━━━━━━━━━━━━━━\u001b[0m\u001b[37m\u001b[0m \u001b[1m0s\u001b[0m 284ms/step\n",
            "\n",
            "Original Text:\n",
            "(CNN) -- Place a tennis ball into a yellow sock and tuck it into the back of your pants. Now start running. Congratulations! You are a snitch. Don't get caught, or the game ends. This is quidditch, as played by muggles. In JK Rowling's novels, the snitch is a sort-of magical, winged squash ball, pursued by \"seeker\" Harry Potter in a variety of high-stakes, airborne quidditch contests. Nobody on the UCLA campus has a magical, winged squash ball. A man with a tennis ball dangling from his shorts w ...\n",
            "\n",
            "Reference Summary:\n",
            "<sos>'Muggle quidditch' replicates Harry Potter's magical sport in the real world .\n",
            "Invented in 2005, quidditch now supports 170 US college teams and five full-time staff .\n",
            "Documentary follows UCLA's quidditch team to the Quidditch World Cup .\n",
            "Quidditch players torn between developing their sport and preserving its roots .<eos>\n",
            "\n",
            "Generated Summary:\n",
            "\n"
          ]
        }
      ],
      "source": [
        "input_seq = encoder_input[0].reshape(1, -1)\n",
        "generated = decode_sequence(\n",
        "    input_seq, encoder_model, decoder_model, summary_tokenizer, max_summary_len\n",
        ")\n",
        "\n",
        "print(\"\\nOriginal Text:\")\n",
        "print(texts[5][:500], '...')\n",
        "print(\"\\nReference Summary:\")\n",
        "print(summaries[5])\n",
        "print(\"\\nGenerated Summary:\")\n",
        "print(generated)"
      ]
    },
    {
      "cell_type": "code",
      "source": [
        "scorer = rouge_scorer.RougeScorer(['rouge1', 'rougeL'], use_stemmer=True)\n",
        "\n",
        "scores = scorer.score(summaries[0], generated)\n",
        "print(scores)"
      ],
      "metadata": {
        "id": "diat1LPQHXc-"
      },
      "execution_count": null,
      "outputs": []
    }
  ],
  "metadata": {
    "accelerator": "GPU",
    "colab": {
      "gpuType": "T4",
      "provenance": [],
      "include_colab_link": true
    },
    "kernelspec": {
      "display_name": "Python 3",
      "name": "python3"
    },
    "language_info": {
      "name": "python"
    }
  },
  "nbformat": 4,
  "nbformat_minor": 0
}